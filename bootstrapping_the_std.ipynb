{
 "cells": [
  {
   "cell_type": "code",
   "execution_count": 1,
   "id": "3f5e05fc",
   "metadata": {},
   "outputs": [],
   "source": [
    "import pandas as pd\n",
    "import numpy as np\n",
    "import matplotlib.pyplot as plt\n",
    "%matplotlib inline\n",
    "\n",
    "import seaborn as sns"
   ]
  },
  {
   "cell_type": "markdown",
   "id": "25eec801",
   "metadata": {},
   "source": [
    "# Generate a \"population\""
   ]
  },
  {
   "cell_type": "code",
   "execution_count": 2,
   "id": "a2cb6634",
   "metadata": {},
   "outputs": [],
   "source": [
    "# generate 1 million samples from a normal distribution to simulate the population\n",
    "population = np.random.normal(53.21, 4.23, 10**6)"
   ]
  },
  {
   "cell_type": "code",
   "execution_count": 3,
   "id": "292ec9b3",
   "metadata": {},
   "outputs": [
    {
     "data": {
      "text/plain": [
       "(1000000,)"
      ]
     },
     "execution_count": 3,
     "metadata": {},
     "output_type": "execute_result"
    }
   ],
   "source": [
    "population.shape"
   ]
  },
  {
   "cell_type": "code",
   "execution_count": 4,
   "id": "166fbb0f",
   "metadata": {},
   "outputs": [
    {
     "name": "stderr",
     "output_type": "stream",
     "text": [
      "/Users/benbogart/opt/anaconda3/envs/ml/lib/python3.7/site-packages/seaborn/distributions.py:2557: FutureWarning: `distplot` is a deprecated function and will be removed in a future version. Please adapt your code to use either `displot` (a figure-level function with similar flexibility) or `histplot` (an axes-level function for histograms).\n",
      "  warnings.warn(msg, FutureWarning)\n"
     ]
    },
    {
     "data": {
      "text/plain": [
       "<AxesSubplot:ylabel='Density'>"
      ]
     },
     "execution_count": 4,
     "metadata": {},
     "output_type": "execute_result"
    },
    {
     "data": {
      "image/png": "[encoded data removed]",
      "text/plain": [
       "<Figure size 432x288 with 1 Axes>"
      ]
     },
     "metadata": {
      "needs_background": "light"
     },
     "output_type": "display_data"
    }
   ],
   "source": [
    "sns.distplot(population)"
   ]
  },
  {
   "cell_type": "code",
   "execution_count": 5,
   "id": "86ab05d2",
   "metadata": {},
   "outputs": [],
   "source": [
    "sample = np.random.choice(population, size=30, replace=False)"
   ]
  },
  {
   "cell_type": "code",
   "execution_count": 6,
   "id": "ac6056c0",
   "metadata": {},
   "outputs": [
    {
     "data": {
      "text/plain": [
       "53.36562055283152"
      ]
     },
     "execution_count": 6,
     "metadata": {},
     "output_type": "execute_result"
    }
   ],
   "source": [
    "sample.mean()"
   ]
  },
  {
   "cell_type": "code",
   "execution_count": 7,
   "id": "174715a1",
   "metadata": {},
   "outputs": [
    {
     "data": {
      "text/plain": [
       "<AxesSubplot:ylabel='Count'>"
      ]
     },
     "execution_count": 7,
     "metadata": {},
     "output_type": "execute_result"
    },
    {
     "data": {
      "image/png": "[encoded data removed]",
      "text/plain": [
       "<Figure size 432x288 with 1 Axes>"
      ]
     },
     "metadata": {
      "needs_background": "light"
     },
     "output_type": "display_data"
    }
   ],
   "source": [
    "sns.histplot(sample)"
   ]
  },
  {
   "cell_type": "markdown",
   "id": "0b92a38c",
   "metadata": {},
   "source": [
    "# Bootstrap"
   ]
  },
  {
   "cell_type": "code",
   "execution_count": 8,
   "id": "e1243ef0",
   "metadata": {},
   "outputs": [],
   "source": [
    "bs = np.random.choice(sample, (len(sample), 1000), replace=True)"
   ]
  },
  {
   "cell_type": "code",
   "execution_count": 9,
   "id": "bb908bcf",
   "metadata": {},
   "outputs": [
    {
     "data": {
      "text/plain": [
       "53.41032880150417"
      ]
     },
     "execution_count": 9,
     "metadata": {},
     "output_type": "execute_result"
    }
   ],
   "source": [
    "bs_means = bs.mean(axis=0)\n",
    "bs_means_mean = bs_means.mean()\n",
    "bs_means_mean"
   ]
  },
  {
   "cell_type": "markdown",
   "id": "aa43a4aa",
   "metadata": {},
   "source": [
    "## Confidence interval"
   ]
  },
  {
   "cell_type": "code",
   "execution_count": 10,
   "id": "e6f2dfab",
   "metadata": {},
   "outputs": [
    {
     "data": {
      "text/plain": [
       "51.89813357958946"
      ]
     },
     "execution_count": 10,
     "metadata": {},
     "output_type": "execute_result"
    }
   ],
   "source": [
    "np.quantile(bs_means, 0.025)"
   ]
  },
  {
   "cell_type": "code",
   "execution_count": 11,
   "id": "2438fd5f",
   "metadata": {},
   "outputs": [
    {
     "data": {
      "text/plain": [
       "54.778625654572245"
      ]
     },
     "execution_count": 11,
     "metadata": {},
     "output_type": "execute_result"
    }
   ],
   "source": [
    "np.quantile(bs_means, 0.975)"
   ]
  },
  {
   "cell_type": "markdown",
   "id": "7e6fd112",
   "metadata": {},
   "source": [
    "If this population were drawn from many different populations 95/100 of them would have a mean between 51.48 and 55.08."
   ]
  },
  {
   "cell_type": "markdown",
   "id": "7deb5a35",
   "metadata": {},
   "source": [
    "# Bootstrap the Standard Deviation\n",
    "\n",
    "The difference here is that we will calculate the standard deviation for each sample, then take the mean of the standard deviations."
   ]
  },
  {
   "cell_type": "code",
   "execution_count": 12,
   "id": "b62ffe02",
   "metadata": {},
   "outputs": [
    {
     "data": {
      "text/plain": [
       "4.094649608233774"
      ]
     },
     "execution_count": 12,
     "metadata": {},
     "output_type": "execute_result"
    }
   ],
   "source": [
    "bs_stds = bs.std(axis=0)\n",
    "bs_std_mean = bs_stds.mean()\n",
    "bs_std_mean"
   ]
  },
  {
   "cell_type": "code",
   "execution_count": 13,
   "id": "a41a8bea",
   "metadata": {},
   "outputs": [
    {
     "data": {
      "text/plain": [
       "2.8541861842326126"
      ]
     },
     "execution_count": 13,
     "metadata": {},
     "output_type": "execute_result"
    }
   ],
   "source": [
    "np.quantile(bs_stds, 0.025)"
   ]
  },
  {
   "cell_type": "code",
   "execution_count": 14,
   "id": "3e87bc2a",
   "metadata": {},
   "outputs": [
    {
     "data": {
      "text/plain": [
       "5.172352140652382"
      ]
     },
     "execution_count": 14,
     "metadata": {},
     "output_type": "execute_result"
    }
   ],
   "source": [
    "np.quantile(bs_stds, 0.975)"
   ]
  },
  {
   "cell_type": "markdown",
   "id": "be7475d1",
   "metadata": {},
   "source": [
    "Ok, thats a pretty wide range."
   ]
  },
  {
   "cell_type": "code",
   "execution_count": 15,
   "id": "d0992799",
   "metadata": {},
   "outputs": [],
   "source": [
    "# patience, this will take some time\n",
    "bs_big = np.random.choice(sample, (len(sample), 10**7), replace=True)"
   ]
  },
  {
   "cell_type": "code",
   "execution_count": 24,
   "id": "7bf62918",
   "metadata": {},
   "outputs": [
    {
     "data": {
      "text/plain": [
       "4.111397279034328"
      ]
     },
     "execution_count": 24,
     "metadata": {},
     "output_type": "execute_result"
    }
   ],
   "source": [
    "bs_stds = bs_big.std(axis=0)\n",
    "bs_std_mean = bs_stds.mean()\n",
    "bs_std_mean"
   ]
  },
  {
   "cell_type": "code",
   "execution_count": 25,
   "id": "9900fc1c",
   "metadata": {},
   "outputs": [
    {
     "data": {
      "text/plain": [
       "2.9349648488028617"
      ]
     },
     "execution_count": 25,
     "metadata": {},
     "output_type": "execute_result"
    }
   ],
   "source": [
    "np.quantile(bs_stds, 0.025)"
   ]
  },
  {
   "cell_type": "code",
   "execution_count": 26,
   "id": "3d21055c",
   "metadata": {},
   "outputs": [
    {
     "data": {
      "text/plain": [
       "5.259575128539953"
      ]
     },
     "execution_count": 26,
     "metadata": {},
     "output_type": "execute_result"
    }
   ],
   "source": [
    "np.quantile(bs_stds, 0.975)"
   ]
  },
  {
   "cell_type": "markdown",
   "id": "76956acc",
   "metadata": {},
   "source": [
    "# compare results to the original distribution"
   ]
  },
  {
   "cell_type": "code",
   "execution_count": 21,
   "id": "b3607ee6",
   "metadata": {},
   "outputs": [],
   "source": [
    "# sns.distplot(population)\n",
    "\n",
    "x = np.linspace(30, 80, 1000)"
   ]
  },
  {
   "cell_type": "code",
   "execution_count": 22,
   "id": "665f1809",
   "metadata": {},
   "outputs": [],
   "source": [
    "import scipy.stats as st\n",
    "\n",
    "dist = st.norm(loc=bs_means_mean, scale=bs_std_mean)\n",
    "y = dist.pdf(x)"
   ]
  },
  {
   "cell_type": "code",
   "execution_count": 29,
   "id": "df11ee5f",
   "metadata": {},
   "outputs": [
    {
     "name": "stderr",
     "output_type": "stream",
     "text": [
      "/Users/benbogart/opt/anaconda3/envs/ml/lib/python3.7/site-packages/seaborn/distributions.py:2557: FutureWarning: `distplot` is a deprecated function and will be removed in a future version. Please adapt your code to use either `displot` (a figure-level function with similar flexibility) or `histplot` (an axes-level function for histograms).\n",
      "  warnings.warn(msg, FutureWarning)\n"
     ]
    },
    {
     "data": {
      "text/plain": [
       "[<matplotlib.lines.Line2D at 0x1271d3490>]"
      ]
     },
     "execution_count": 29,
     "metadata": {},
     "output_type": "execute_result"
    },
    {
     "data": {
      "image/png": "[encoded data removed]",
      "text/plain": [
       "<Figure size 432x288 with 1 Axes>"
      ]
     },
     "metadata": {
      "needs_background": "light"
     },
     "output_type": "display_data"
    }
   ],
   "source": [
    "sns.distplot(population)\n",
    "plt.plot(x,y, color='red')"
   ]
  }
 ],
 "metadata": {
  "kernelspec": {
   "display_name": "Python [conda env:ml]",
   "language": "python",
   "name": "conda-env-ml-py"
  },
  "language_info": {
   "codemirror_mode": {
    "name": "ipython",
    "version": 3
   },
   "file_extension": ".py",
   "mimetype": "text/x-python",
   "name": "python",
   "nbconvert_exporter": "python",
   "pygments_lexer": "ipython3",
   "version": "3.7.10"
  },
  "toc": {
   "base_numbering": 1,
   "nav_menu": {},
   "number_sections": true,
   "sideBar": true,
   "skip_h1_title": false,
   "title_cell": "Table of Contents",
   "title_sidebar": "Contents",
   "toc_cell": false,
   "toc_position": {},
   "toc_section_display": true,
   "toc_window_display": false
  }
 },
 "nbformat": 4,
 "nbformat_minor": 5
}
